{
  "nbformat": 4,
  "nbformat_minor": 0,
  "metadata": {
    "colab": {
      "name": "Untitled11.ipynb",
      "provenance": [],
      "authorship_tag": "ABX9TyOrBJi/dHrRxkYyOFxQr1ue",
      "include_colab_link": true
    },
    "kernelspec": {
      "name": "python3",
      "display_name": "Python 3"
    },
    "language_info": {
      "name": "python"
    }
  },
  "cells": [
    {
      "cell_type": "markdown",
      "metadata": {
        "id": "view-in-github",
        "colab_type": "text"
      },
      "source": [
        "<a href=\"https://colab.research.google.com/github/Miguelzan/Exercicios-em-Python/blob/main/044.ipynb\" target=\"_parent\"><img src=\"https://colab.research.google.com/assets/colab-badge.svg\" alt=\"Open In Colab\"/></a>"
      ]
    },
    {
      "cell_type": "code",
      "execution_count": 40,
      "metadata": {
        "colab": {
          "base_uri": "https://localhost:8080/"
        },
        "id": "fSNAQMi3KS3V",
        "outputId": "cd187002-9d61-4fef-988e-859e16455204"
      },
      "outputs": [
        {
          "output_type": "stream",
          "name": "stdout",
          "text": [
            "\u001b[2;35;32mÍNDICE DE MASSA CORPORAL:\n",
            "\n",
            "[1] Abaixo do Peso\n",
            "[2] Peso Ideal\n",
            "[3] Sobrepeso\n",
            "[4] Obesidade\n",
            "[5] Obesidade Mórbida\n",
            "\n",
            "\n",
            "Digite o seu peso:(KG) 65\n",
            "\n",
            "Digite a sua altura:(M) 1.63\n",
            "\n",
            "O seu IMC e de: 24.5!\n",
            "\n",
            "[ Você está no Peso Ideal ]\n"
          ]
        }
      ],
      "source": [
        "#Exercício Python 43:\n",
        "\n",
        "#Desenvolva uma lógica que leia o peso e a altura de uma pessoa, \n",
        "#calcule seu Índice de Massa Corporal (IMC) e mostre seu status, de acordo com a tabela abaixo:\n",
        "\n",
        "#– IMC abaixo de 18,5: Abaixo do Peso\n",
        "\n",
        "#– Entre 18,5 e 25: Peso Ideal\n",
        "\n",
        "#– 25 até 30: Sobrepeso\n",
        "\n",
        "#– 30 até 40: Obesidade\n",
        "\n",
        "#– Acima de 40: Obesidade Mórbida\n",
        "\n",
        "print('''\\033[2;35;32mÍNDICE DE MASSA CORPORAL:\n",
        "\n",
        "[1] Abaixo do Peso\n",
        "[2] Peso Ideal\n",
        "[3] Sobrepeso\n",
        "[4] Obesidade\n",
        "[5] Obesidade Mórbida\n",
        "\n",
        "''')\n",
        "\n",
        "peso = float(input('Digite o seu peso:(KG) '))\n",
        "\n",
        "altura= float(input('\\nDigite a sua altura:(M) '))\n",
        "\n",
        "IMC = peso / (altura ** 2)\n",
        "\n",
        "print(f'\\nO seu IMC e de: {IMC:.1f}!')\n",
        "\n",
        "if IMC < 18.5:\n",
        "  print('\\n[ Você está Abaixo do Peso ]')\n",
        "elif 18.5 <= IMC < 25:\n",
        "  print('\\n[ Você está no Peso Ideal ]')\n",
        "elif 25 <= IMC < 30:\n",
        "  print('\\n[ Você está com Sobrepeso ]')\n",
        "elif 30 <= IMC < 40:\n",
        "  print('\\n[ Você está com Obesidade ]')\n",
        "else:\n",
        "  print('\\n[ Você está com Obesidade Mórbida ]') \n",
        "\n"
      ]
    }
  ]
}