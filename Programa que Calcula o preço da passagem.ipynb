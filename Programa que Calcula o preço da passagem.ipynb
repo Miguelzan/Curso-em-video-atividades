{
  "cells": [
    {
      "cell_type": "markdown",
      "metadata": {
        "id": "view-in-github",
        "colab_type": "text"
      },
      "source": [
        "<a href=\"https://colab.research.google.com/github/Miguelzan/Curso-em-video-atividades/blob/main/Programa%20que%20Calcula%20o%20pre%C3%A7o%20da%20passagem.ipynb\" target=\"_parent\"><img src=\"https://colab.research.google.com/assets/colab-badge.svg\" alt=\"Open In Colab\"/></a>"
      ]
    },
    {
      "cell_type": "code",
      "source": [
        "#Desenvolva um programa Calcule o preço da passagem, cobrando R$0,50 por Km para viagens de até 200Km e R$0,45 parta viagens mais longas.\n",
        "\n",
        "d = float(input('Qual é a distância da sua viajem? '))\n",
        "\n",
        "print(f'Você está prestes a começar uma viagem de {}Km.')\n",
        "\n",
        "if v <= 200:\n",
        "  custo = d * 0.50\n",
        "\n",
        "else:\n",
        "  custo = d * 0.45\n",
        "  print(f'E o preço da sua passagem será de R${d:.2f}.')\n"
      ],
      "metadata": {
        "id": "AMj-KLhN0rqL"
      },
      "execution_count": null,
      "outputs": []
    }
  ],
  "metadata": {
    "colab": {
      "name": "Cópia de Untitled0.ipynb",
      "provenance": [],
      "collapsed_sections": [],
      "authorship_tag": "ABX9TyMagz5OQqNaIBYPSNB7SzZK",
      "include_colab_link": true
    },
    "kernelspec": {
      "display_name": "Python 3",
      "name": "python3"
    },
    "language_info": {
      "name": "python"
    }
  },
  "nbformat": 4,
  "nbformat_minor": 0
}